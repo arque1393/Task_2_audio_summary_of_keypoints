{
 "cells": [
  {
   "cell_type": "code",
   "execution_count": 1,
   "metadata": {},
   "outputs": [],
   "source": [
    "import soundfile\n",
    "from espnet2.bin.tts_inference import Text2Speech\n",
    "\n",
    "text2speech = Text2Speech.from_pretrained(\"espnet/kan-bayashi_ljspeech_vits\")\n",
    "speech = text2speech(\"foobar\")[\"wav\"]\n",
    "soundfile.write(\"out.wav\", speech.numpy(), text2speech.fs, \"PCM_16\")"
   ]
  },
  {
   "cell_type": "code",
   "execution_count": null,
   "metadata": {},
   "outputs": [],
   "source": []
  }
 ],
 "metadata": {
  "kernelspec": {
   "display_name": "TF_TTS",
   "language": "python",
   "name": "python3"
  },
  "language_info": {
   "codemirror_mode": {
    "name": "ipython",
    "version": 3
   },
   "file_extension": ".py",
   "mimetype": "text/x-python",
   "name": "python",
   "nbconvert_exporter": "python",
   "pygments_lexer": "ipython3",
   "version": "3.9.18"
  }
 },
 "nbformat": 4,
 "nbformat_minor": 2
}
